{
  "nbformat": 4,
  "nbformat_minor": 0,
  "metadata": {
    "colab": {
      "name": "Intro_to_Python1_exercise.ipynb",
      "provenance": [],
      "collapsed_sections": []
    },
    "kernelspec": {
      "display_name": "Python 3",
      "language": "python",
      "name": "python3"
    },
    "language_info": {
      "codemirror_mode": {
        "name": "ipython",
        "version": 3
      },
      "file_extension": ".py",
      "mimetype": "text/x-python",
      "name": "python",
      "nbconvert_exporter": "python",
      "pygments_lexer": "ipython3",
      "version": "3.7.6"
    }
  },
  "cells": [
    {
      "cell_type": "markdown",
      "metadata": {
        "id": "I2KP5gAzZ9U6"
      },
      "source": [
        "# Exercise 1"
      ]
    },
    {
      "cell_type": "code",
      "metadata": {
        "id": "G44U1WpZZ9U-"
      },
      "source": [
        ""
      ],
      "execution_count": null,
      "outputs": []
    },
    {
      "cell_type": "markdown",
      "metadata": {
        "id": "OL_g0JKfZ9VE"
      },
      "source": [
        "# Exercise2"
      ]
    },
    {
      "cell_type": "code",
      "metadata": {
        "id": "9QWTc4XbZ9VF"
      },
      "source": [
        ""
      ],
      "execution_count": null,
      "outputs": []
    },
    {
      "cell_type": "code",
      "metadata": {
        "id": "jDTr_lCnZ9VJ"
      },
      "source": [
        ""
      ],
      "execution_count": null,
      "outputs": []
    },
    {
      "cell_type": "markdown",
      "metadata": {
        "id": "of0fLQn7Z9VM"
      },
      "source": [
        "# Exercise3\n"
      ]
    },
    {
      "cell_type": "code",
      "metadata": {
        "id": "kIFZzB0LZ9VN"
      },
      "source": [
        ""
      ],
      "execution_count": null,
      "outputs": []
    },
    {
      "cell_type": "code",
      "metadata": {
        "id": "OCkUWcfIZ9VR"
      },
      "source": [
        ""
      ],
      "execution_count": null,
      "outputs": []
    },
    {
      "cell_type": "markdown",
      "metadata": {
        "id": "6mq1UBS9Z9VU"
      },
      "source": [
        "# Exercise4"
      ]
    },
    {
      "cell_type": "code",
      "metadata": {
        "id": "W_kwTE6OZ9VV"
      },
      "source": [
        ""
      ],
      "execution_count": null,
      "outputs": []
    },
    {
      "cell_type": "markdown",
      "metadata": {
        "id": "9lrFLnwRZ9VY"
      },
      "source": [
        "# Exercise 5"
      ]
    },
    {
      "cell_type": "code",
      "metadata": {
        "id": "rMOhYZejZ9VZ"
      },
      "source": [
        ""
      ],
      "execution_count": null,
      "outputs": []
    },
    {
      "cell_type": "markdown",
      "metadata": {
        "id": "Fj5Mxf5UZ9Vd"
      },
      "source": [
        "# Exercise 6"
      ]
    },
    {
      "cell_type": "code",
      "metadata": {
        "id": "TU1zRHOLZ9Vf"
      },
      "source": [
        ""
      ],
      "execution_count": null,
      "outputs": []
    },
    {
      "cell_type": "code",
      "metadata": {
        "id": "sA7etwODLN61"
      },
      "source": [
        ""
      ],
      "execution_count": null,
      "outputs": []
    },
    {
      "cell_type": "markdown",
      "metadata": {
        "id": "iDG62IqhZ9Vn"
      },
      "source": [
        "# Exercise7"
      ]
    },
    {
      "cell_type": "code",
      "metadata": {
        "id": "-BpuGBxKZ9Vo"
      },
      "source": [
        ""
      ],
      "execution_count": null,
      "outputs": []
    },
    {
      "cell_type": "markdown",
      "metadata": {
        "id": "zZGm0kx5Z9Vs"
      },
      "source": [
        "# Exercise8"
      ]
    },
    {
      "cell_type": "code",
      "metadata": {
        "id": "fhFtP0NMZ9Vt"
      },
      "source": [
        ""
      ],
      "execution_count": null,
      "outputs": []
    },
    {
      "cell_type": "code",
      "metadata": {
        "id": "y1RpnXh4MiWS"
      },
      "source": [
        ""
      ],
      "execution_count": null,
      "outputs": []
    },
    {
      "cell_type": "markdown",
      "metadata": {
        "id": "ng9CbysaZ9Vw"
      },
      "source": [
        "# Exercise9"
      ]
    },
    {
      "cell_type": "code",
      "metadata": {
        "id": "8x_4z2U0Z9Vy"
      },
      "source": [
        ""
      ],
      "execution_count": null,
      "outputs": []
    },
    {
      "cell_type": "code",
      "metadata": {
        "id": "AR-ELqvANQqo"
      },
      "source": [
        ""
      ],
      "execution_count": null,
      "outputs": []
    },
    {
      "cell_type": "markdown",
      "metadata": {
        "id": "FH80WJizZ9V0"
      },
      "source": [
        "# Exercise10"
      ]
    },
    {
      "cell_type": "code",
      "metadata": {
        "id": "7SLb0xcYZ9V1"
      },
      "source": [
        ""
      ],
      "execution_count": null,
      "outputs": []
    },
    {
      "cell_type": "markdown",
      "metadata": {
        "id": "F6_d7iGHYegB"
      },
      "source": [
        "# Exercise11\n"
      ]
    },
    {
      "cell_type": "code",
      "metadata": {
        "id": "Ki5FT_M_YhOz"
      },
      "source": [
        "import numpy as np\n",
        "\n",
        "arr = [5,3,8,7,1]\n",
        "#arr = np.random.randint(0,1000,10) #Uncommment this line to generate an array of random integers\n",
        "\n",
        "print('arr before sorting:', arr)\n",
        "\n",
        "#====================================================\n",
        "#Write your insertion sort here\n",
        "\n",
        "\n",
        "\n",
        "\n",
        "\n",
        "#====================================================\n",
        "\n",
        "print('arr after sorting:', arr)"
      ],
      "execution_count": null,
      "outputs": []
    },
    {
      "cell_type": "code",
      "metadata": {
        "id": "FhnlHbOglAn-"
      },
      "source": [
        ""
      ],
      "execution_count": null,
      "outputs": []
    }
  ]
}