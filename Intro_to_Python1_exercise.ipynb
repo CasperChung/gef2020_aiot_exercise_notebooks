{
  "nbformat": 4,
  "nbformat_minor": 0,
  "metadata": {
    "colab": {
      "name": "Intro_to_Python1_exercise.ipynb",
      "provenance": [],
      "collapsed_sections": []
    },
    "kernelspec": {
      "display_name": "Python 3",
      "language": "python",
      "name": "python3"
    },
    "language_info": {
      "codemirror_mode": {
        "name": "ipython",
        "version": 3
      },
      "file_extension": ".py",
      "mimetype": "text/x-python",
      "name": "python",
      "nbconvert_exporter": "python",
      "pygments_lexer": "ipython3",
      "version": "3.7.6"
    }
  },
  "cells": [
    {
      "cell_type": "markdown",
      "metadata": {
        "id": "I2KP5gAzZ9U6"
      },
      "source": [
        "# Exercise 1"
      ]
    },
    {
      "cell_type": "code",
      "metadata": {
        "id": "G44U1WpZZ9U-",
        "colab": {
          "base_uri": "https://localhost:8080/"
        },
        "outputId": "17ade81e-92b8-4315-a5dc-d72cddbe035c"
      },
      "source": [
        ""
      ],
      "execution_count": null,
      "outputs": [
        {
          "output_type": "stream",
          "text": [
            "What is your name? John\n",
            "hi, John\n"
          ],
          "name": "stdout"
        }
      ]
    },
    {
      "cell_type": "markdown",
      "metadata": {
        "id": "OL_g0JKfZ9VE"
      },
      "source": [
        "# Exercise2"
      ]
    },
    {
      "cell_type": "code",
      "metadata": {
        "id": "9QWTc4XbZ9VF",
        "outputId": "cbfb1c34-b2a1-4956-fd1c-aab0666e979c"
      },
      "source": [
        ""
      ],
      "execution_count": null,
      "outputs": [
        {
          "output_type": "execute_result",
          "data": {
            "text/plain": [
              "str"
            ]
          },
          "metadata": {
            "tags": []
          },
          "execution_count": 4
        }
      ]
    },
    {
      "cell_type": "code",
      "metadata": {
        "id": "jDTr_lCnZ9VJ",
        "outputId": "17aaf04c-6411-41ea-cdb3-3f1f4811d229"
      },
      "source": [
        ""
      ],
      "execution_count": null,
      "outputs": [
        {
          "output_type": "stream",
          "text": [
            "False\n",
            "True\n",
            "True\n",
            "False\n",
            "True\n",
            "True\n"
          ],
          "name": "stdout"
        }
      ]
    },
    {
      "cell_type": "markdown",
      "metadata": {
        "id": "of0fLQn7Z9VM"
      },
      "source": [
        "# Exercise3\n"
      ]
    },
    {
      "cell_type": "code",
      "metadata": {
        "id": "kIFZzB0LZ9VN",
        "outputId": "bf61f680-fe12-4462-8ccd-1ce27ad3ff91"
      },
      "source": [
        ""
      ],
      "execution_count": null,
      "outputs": [
        {
          "output_type": "error",
          "ename": "TypeError",
          "evalue": "unsupported operand type(s) for +: 'float' and 'str'",
          "traceback": [
            "\u001b[1;31m---------------------------------------------------------------------------\u001b[0m",
            "\u001b[1;31mTypeError\u001b[0m                                 Traceback (most recent call last)",
            "\u001b[1;32m<ipython-input-4-3e606d909e96>\u001b[0m in \u001b[0;36m<module>\u001b[1;34m\u001b[0m\n\u001b[0;32m      1\u001b[0m \u001b[0ma\u001b[0m\u001b[1;33m=\u001b[0m\u001b[1;36m123.45\u001b[0m\u001b[1;33m\u001b[0m\u001b[1;33m\u001b[0m\u001b[0m\n\u001b[0;32m      2\u001b[0m \u001b[0mb\u001b[0m\u001b[1;33m=\u001b[0m\u001b[1;34m'456.78'\u001b[0m\u001b[1;33m\u001b[0m\u001b[1;33m\u001b[0m\u001b[0m\n\u001b[1;32m----> 3\u001b[1;33m \u001b[0ma\u001b[0m\u001b[1;33m+\u001b[0m\u001b[0mb\u001b[0m\u001b[1;33m\u001b[0m\u001b[1;33m\u001b[0m\u001b[0m\n\u001b[0m",
            "\u001b[1;31mTypeError\u001b[0m: unsupported operand type(s) for +: 'float' and 'str'"
          ]
        }
      ]
    },
    {
      "cell_type": "code",
      "metadata": {
        "id": "OCkUWcfIZ9VR",
        "outputId": "bc825fa1-5860-414a-ef7a-b5da75c7072b"
      },
      "source": [
        ""
      ],
      "execution_count": null,
      "outputs": [
        {
          "output_type": "stream",
          "text": [
            "580.23\n"
          ],
          "name": "stdout"
        }
      ]
    },
    {
      "cell_type": "markdown",
      "metadata": {
        "id": "6mq1UBS9Z9VU"
      },
      "source": [
        "# Exercise4"
      ]
    },
    {
      "cell_type": "code",
      "metadata": {
        "id": "W_kwTE6OZ9VV",
        "outputId": "98b812d6-1a9b-4a53-ee7f-e57a5b47566a"
      },
      "source": [
        ""
      ],
      "execution_count": null,
      "outputs": [
        {
          "output_type": "stream",
          "text": [
            "sum = 220\n",
            "73.33333333333333\n"
          ],
          "name": "stdout"
        }
      ]
    },
    {
      "cell_type": "markdown",
      "metadata": {
        "id": "9lrFLnwRZ9VY"
      },
      "source": [
        "# Exercise 5"
      ]
    },
    {
      "cell_type": "code",
      "metadata": {
        "id": "rMOhYZejZ9VZ",
        "outputId": "8272bfe0-6125-4fcc-a218-2233f1af8662"
      },
      "source": [
        ""
      ],
      "execution_count": null,
      "outputs": [
        {
          "output_type": "stream",
          "text": [
            "a==b: True\n",
            "a is b: False\n"
          ],
          "name": "stdout"
        }
      ]
    },
    {
      "cell_type": "markdown",
      "metadata": {
        "id": "Fj5Mxf5UZ9Vd"
      },
      "source": [
        "# Exercise 6"
      ]
    },
    {
      "cell_type": "code",
      "metadata": {
        "id": "TU1zRHOLZ9Vf",
        "colab": {
          "base_uri": "https://localhost:8080/",
          "height": 229
        },
        "outputId": "014d74bd-085a-4406-bfba-ebff9b62659f"
      },
      "source": [
        ""
      ],
      "execution_count": null,
      "outputs": [
        {
          "output_type": "stream",
          "text": [
            "type(number): <class 'int'>\n",
            "type(number): <class 'tuple'>\n"
          ],
          "name": "stdout"
        },
        {
          "output_type": "error",
          "ename": "TypeError",
          "evalue": "ignored",
          "traceback": [
            "\u001b[0;31m---------------------------------------------------------------------------\u001b[0m",
            "\u001b[0;31mTypeError\u001b[0m                                 Traceback (most recent call last)",
            "\u001b[0;32m<ipython-input-13-6ea4e51906e9>\u001b[0m in \u001b[0;36m<module>\u001b[0;34m()\u001b[0m\n\u001b[1;32m      3\u001b[0m \u001b[0mnumber\u001b[0m\u001b[0;34m=\u001b[0m\u001b[0;34m(\u001b[0m\u001b[0;36m1\u001b[0m\u001b[0;34m,\u001b[0m\u001b[0;34m)\u001b[0m\u001b[0;34m\u001b[0m\u001b[0;34m\u001b[0m\u001b[0m\n\u001b[1;32m      4\u001b[0m \u001b[0mprint\u001b[0m\u001b[0;34m(\u001b[0m\u001b[0;34m\"type(number):\"\u001b[0m\u001b[0;34m,\u001b[0m \u001b[0mtype\u001b[0m\u001b[0;34m(\u001b[0m\u001b[0mnumber\u001b[0m\u001b[0;34m)\u001b[0m\u001b[0;34m)\u001b[0m\u001b[0;34m\u001b[0m\u001b[0;34m\u001b[0m\u001b[0m\n\u001b[0;32m----> 5\u001b[0;31m \u001b[0mnumber\u001b[0m\u001b[0;34m[\u001b[0m\u001b[0;36m0\u001b[0m\u001b[0;34m]\u001b[0m\u001b[0;34m=\u001b[0m\u001b[0;36m3\u001b[0m\u001b[0;34m\u001b[0m\u001b[0;34m\u001b[0m\u001b[0m\n\u001b[0m",
            "\u001b[0;31mTypeError\u001b[0m: 'tuple' object does not support item assignment"
          ]
        }
      ]
    },
    {
      "cell_type": "code",
      "metadata": {
        "colab": {
          "base_uri": "https://localhost:8080/",
          "height": 162
        },
        "id": "sA7etwODLN61",
        "outputId": "d79a8f45-2bb3-4237-8dd3-a051d2c6921e"
      },
      "source": [
        ""
      ],
      "execution_count": null,
      "outputs": [
        {
          "output_type": "error",
          "ename": "NameError",
          "evalue": "ignored",
          "traceback": [
            "\u001b[0;31m---------------------------------------------------------------------------\u001b[0m",
            "\u001b[0;31mNameError\u001b[0m                                 Traceback (most recent call last)",
            "\u001b[0;32m<ipython-input-17-d1ac3c3a168f>\u001b[0m in \u001b[0;36m<module>\u001b[0;34m()\u001b[0m\n\u001b[0;32m----> 1\u001b[0;31m \u001b[0mnumber\u001b[0m\u001b[0;34m\u001b[0m\u001b[0;34m\u001b[0m\u001b[0m\n\u001b[0m",
            "\u001b[0;31mNameError\u001b[0m: name 'number' is not defined"
          ]
        }
      ]
    },
    {
      "cell_type": "markdown",
      "metadata": {
        "id": "iDG62IqhZ9Vn"
      },
      "source": [
        "# Exercise7"
      ]
    },
    {
      "cell_type": "code",
      "metadata": {
        "id": "-BpuGBxKZ9Vo",
        "colab": {
          "base_uri": "https://localhost:8080/"
        },
        "outputId": "3a7de499-b9ff-4d7d-f114-4adbc617b22f"
      },
      "source": [
        ""
      ],
      "execution_count": null,
      "outputs": [
        {
          "output_type": "stream",
          "text": [
            "Peter\n",
            "{'name': 'Peter', 'age': 22}\n"
          ],
          "name": "stdout"
        }
      ]
    },
    {
      "cell_type": "markdown",
      "metadata": {
        "id": "zZGm0kx5Z9Vs"
      },
      "source": [
        "# Exercise8"
      ]
    },
    {
      "cell_type": "code",
      "metadata": {
        "id": "fhFtP0NMZ9Vt",
        "colab": {
          "base_uri": "https://localhost:8080/"
        },
        "outputId": "fd9c4ea3-967f-485b-e41a-3966d660290c"
      },
      "source": [
        ""
      ],
      "execution_count": null,
      "outputs": [
        {
          "output_type": "stream",
          "text": [
            "Please enter a phone number:  2xxxxxxx\n",
            "The input number is 2xxxxxxx\n",
            "It is not a valid number\n"
          ],
          "name": "stdout"
        }
      ]
    },
    {
      "cell_type": "code",
      "metadata": {
        "colab": {
          "base_uri": "https://localhost:8080/"
        },
        "id": "y1RpnXh4MiWS",
        "outputId": "804ad40d-975c-471f-90d0-346412017571"
      },
      "source": [
        ""
      ],
      "execution_count": null,
      "outputs": [
        {
          "output_type": "execute_result",
          "data": {
            "text/plain": [
              "False"
            ]
          },
          "metadata": {
            "tags": []
          },
          "execution_count": 23
        }
      ]
    },
    {
      "cell_type": "markdown",
      "metadata": {
        "id": "ng9CbysaZ9Vw"
      },
      "source": [
        "# Exercise9"
      ]
    },
    {
      "cell_type": "code",
      "metadata": {
        "id": "8x_4z2U0Z9Vy",
        "outputId": "dfe8d743-e33d-4dfd-99d2-7a767f1a7484"
      },
      "source": [
        ""
      ],
      "execution_count": null,
      "outputs": [
        {
          "output_type": "stream",
          "text": [
            "11 13 15 17 19 21 23 25 "
          ],
          "name": "stdout"
        }
      ]
    },
    {
      "cell_type": "code",
      "metadata": {
        "colab": {
          "base_uri": "https://localhost:8080/"
        },
        "id": "AR-ELqvANQqo",
        "outputId": "20dd5b1f-f330-454c-ca58-5e13d8d3d96f"
      },
      "source": [
        ""
      ],
      "execution_count": null,
      "outputs": [
        {
          "output_type": "stream",
          "text": [
            "[0, 1, 2, 3, 4, 5, 6, 7, 8, 9]\n",
            "[0, 4, 8, 12, 16]\n"
          ],
          "name": "stdout"
        }
      ]
    },
    {
      "cell_type": "markdown",
      "metadata": {
        "id": "FH80WJizZ9V0"
      },
      "source": [
        "# Exercise10"
      ]
    },
    {
      "cell_type": "code",
      "metadata": {
        "id": "7SLb0xcYZ9V1",
        "colab": {
          "base_uri": "https://localhost:8080/"
        },
        "outputId": "95f3ac87-1703-44e7-bcc8-afa0b5da2f1b"
      },
      "source": [
        ""
      ],
      "execution_count": null,
      "outputs": [
        {
          "output_type": "stream",
          "text": [
            "Please enter a phone number:  111\n",
            "The input number is 111\n",
            "It is not a valid number\n",
            "Please enter a phone number:  23456789\n",
            "It is a valid number\n"
          ],
          "name": "stdout"
        }
      ]
    },
    {
      "cell_type": "markdown",
      "metadata": {
        "id": "F6_d7iGHYegB"
      },
      "source": [
        "# Exercise11\n"
      ]
    },
    {
      "cell_type": "code",
      "metadata": {
        "id": "Ki5FT_M_YhOz",
        "colab": {
          "base_uri": "https://localhost:8080/"
        },
        "outputId": "2842fb90-051a-4256-b36e-e69430daa97e"
      },
      "source": [
        "import numpy as np\n",
        "\n",
        "arr = [5,3,8,7,1]\n",
        "#arr = np.random.randint(0,1000,10) #Uncommment this line to generate an array of random integers\n",
        "\n",
        "print('arr before sorting:', arr)\n",
        "\n",
        "#====================================================\n",
        "#Write your insertion sort here\n",
        "for i in range(1,len(arr)):\n",
        "  j = i\n",
        "  while j>0 and arr[j-1]>arr[j]:\n",
        "      arr[j-1], arr[j] = arr[j], arr[j-1]\n",
        "      j -= 1\n",
        "#====================================================\n",
        "\n",
        "print('arr after sorting:', arr)"
      ],
      "execution_count": null,
      "outputs": [
        {
          "output_type": "stream",
          "text": [
            "arr before sorting: [312 116 304 701 944 593 406 514 741 958]\n",
            "arr after sorting: [116 304 312 406 514 593 701 741 944 958]\n"
          ],
          "name": "stdout"
        }
      ]
    },
    {
      "cell_type": "code",
      "metadata": {
        "id": "FhnlHbOglAn-"
      },
      "source": [
        ""
      ],
      "execution_count": null,
      "outputs": []
    }
  ]
}